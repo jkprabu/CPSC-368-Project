{
 "cells": [
  {
   "cell_type": "code",
   "execution_count": 7,
   "metadata": {},
   "outputs": [],
   "source": [
    "import pandas as pd\n",
    "import numpy as np"
   ]
  },
  {
   "cell_type": "code",
   "execution_count": 18,
   "metadata": {},
   "outputs": [],
   "source": [
    "WB_Data_df = pd.read_excel(\"/Users/cpt.flippers/Documents/CS 368/Project/SQL DDL/WBData.xlsx\", sheet_name=\"Data\")\n",
    "WB_Country_df = pd.read_excel(\"/Users/cpt.flippers/Documents/CS 368/Project/SQL DDL/WBData.xlsx\", sheet_name=\"Country\")\n",
    "ESG_Data_df = pd.read_excel(\"/Users/cpt.flippers/Documents/CS 368/Project/SQL DDL/ESGEXCEL.xlsx\", sheet_name=\"Data\")\n",
    "CA_Data_df = pd.read_excel(\"/Users/cpt.flippers/Documents/CS 368/Project/SQL DDL/RawClimateAgreements.xlsx\")\n",
    "\n",
    "WB_Data_df = WB_Data_df.replace('..', \"NULL\")\n",
    "WB_Country_df = WB_Country_df.replace('..', \"NULL\")\n",
    "ESG_Data_df = ESG_Data_df.replace('..', \"NULL\")\n",
    "CA_Data_df = CA_Data_df.fillna('NULL')"
   ]
  },
  {
   "cell_type": "code",
   "execution_count": null,
   "metadata": {},
   "outputs": [],
   "source": [
    "WB_Data_df.set_index('Country code', inplace=True)\n",
    "WB_Country_df.set_index('Country code', inplace=True)\n",
    "ESG_Data_df.set_index('Country Code', inplace=True)\n",
    "CA_Data_df.set_index('Country', inplace=True)"
   ]
  },
  {
   "cell_type": "code",
   "execution_count": 4,
   "metadata": {},
   "outputs": [],
   "source": [
    "# Climate data stuff\n",
    "\n",
    "ClimateData_inserts = []\n",
    "\n",
    "ProjectedAnnualTemperatureChange_df     = WB_Data_df[WB_Data_df['Series name'] == 'Projected annual temperature change (2045-2065, Celsius)'][2011]\n",
    "ProjectedAnnualPrecipitationChange_df   = WB_Data_df[WB_Data_df['Series name'] == 'Projected annual precipitation change (2045-2065, mm)'][2011]\n",
    "AverageDailyMinMaxTemperature_df        = WB_Data_df[WB_Data_df['Series name'] == 'Average daily min/max temperature (1961-1990, Celsius)'][2011]\n",
    "RenewableEnergyTarget_df                = WB_Data_df[WB_Data_df['Series name'] == 'Renewable energy target'][2011]\n",
    "DroughtsFloodsExtremeTemperatures_df    = WB_Data_df[WB_Data_df['Series name'] == 'Droughts, floods, extreme temps (% pop. avg. 1990-2009)'][2009]\n",
    "EmissionsPerCapita_df                   = WB_Data_df[WB_Data_df['Series name'] == 'CO2 emissions per capita (metric tons)'][2008]\n",
    "RenewableElectricityOutput_df           = ESG_Data_df[ESG_Data_df['Indicator Name'] == 'Renewable electricity output (% of total electricity output)']['2015']\n",
    "\n",
    "\n",
    "for ctrCd in WB_Data_df.index:\n",
    "    PATC = ProjectedAnnualTemperatureChange_df.get(ctrCd, \"NULL\")\n",
    "    PAPC = ProjectedAnnualPrecipitationChange_df.get(ctrCd, \"NULL\")\n",
    "    ADMT = AverageDailyMinMaxTemperature_df.get(ctrCd, \"NULL\")\n",
    "    DFET = DroughtsFloodsExtremeTemperatures_df.get(ctrCd, \"NULL\")\n",
    "    EPC  = EmissionsPerCapita_df.get(ctrCd, \"NULL\")\n",
    "    RET  = RenewableEnergyTarget_df.get(ctrCd, \"NULL\")\n",
    "    REO  = RenewableElectricityOutput_df.get(ctrCd, \"NULL\")\n",
    "\n",
    "    attrs = \"CountryCode, ProjectedAnnualTemperatureChange, ProjectedAnnualPrecipitationChange, AverageDailyMinMaxTemperature, DroughtsFloodsExtremeTemperatures, EmissionsPerCapita, RenewableEnergyTarget, RenewableElectricityOutput\"\n",
    "    values = f\"\\\"{ctrCd}\\\", \\\"{PATC}\\\", \\\"{PAPC}\\\", \\\"{ADMT}\\\", {DFET}, {EPC}, \\\"{RET}\\\", {REO}\"\n",
    "    ClimateData_inserts.append(f\"INSERT INTO ClimateData ({attrs}) VALUES ({values});\")\n",
    "\n",
    "ClimateData_inserts = [ins.replace(\"\\\"NULL\\\"\", \"NULL\") for ins in ClimateData_inserts]"
   ]
  },
  {
   "cell_type": "code",
   "execution_count": 13,
   "metadata": {},
   "outputs": [],
   "source": [
    "# Country stuff\n",
    "\n",
    "Country_inserts = []\n",
    "\n",
    "Name_df = WB_Country_df['Country name']\n",
    "Population_df = WB_Data_df[WB_Data_df['Series name'] == 'Population'][2010]\n",
    "PopulationGrowthPercent_df = WB_Data_df[WB_Data_df['Series name'] == 'Population growth (annual %)'][2010]\n",
    "RegionName_df = WB_Country_df['Region']\n",
    "CapitalCity_df = WB_Country_df['Capital city']\n",
    "IncomeGroup_df = WB_Country_df['Income group']\n",
    "GDP_df = WB_Data_df[WB_Data_df['Series name'] == 'GDP ($)'][2010]\n",
    "UrbanPopulation_df = WB_Data_df[WB_Data_df['Series name'] == 'Urban population'][2010]\n",
    "UrbanPopulationGrowth_df = WB_Data_df[WB_Data_df['Series name'] == 'Urban population growth (annual %)'][2010]\n",
    "GovernmentEffectiveness_df = ESG_Data_df[ESG_Data_df['Indicator Name'] == 'Government Effectiveness: Estimate']['2022']\n",
    "ControlOfCorruption_df = ESG_Data_df[ESG_Data_df['Indicator Name'] == 'Control of Corruption: Estimate']['2022']\n",
    "DevelopedOrDeveloping_df = WB_Country_df['DevelopedOrDeveloping']\n",
    "\n",
    "\n",
    "for ctrCd in WB_Data_df.index:\n",
    "    NM = Name_df[ctrCd]\n",
    "    P = Population_df.get(ctrCd, \"NULL\")\n",
    "    PGP = PopulationGrowthPercent_df.get(ctrCd, \"NULL\")\n",
    "    RN = RegionName_df.get(ctrCd, \"NULL\")\n",
    "    CC = CapitalCity_df.get(ctrCd, \"NULL\")\n",
    "    IG = IncomeGroup_df.get(ctrCd, \"NULL\")\n",
    "    GDP = GDP_df.get(ctrCd, \"NULL\")\n",
    "    UP = UrbanPopulation_df.get(ctrCd, \"NULL\")\n",
    "    UPG = UrbanPopulationGrowth_df.get(ctrCd, \"NULL\")\n",
    "    GE = GovernmentEffectiveness_df.get(ctrCd, \"NULL\")\n",
    "    COC = ControlOfCorruption_df.get(ctrCd, \"NULL\")\n",
    "    DOD = DevelopedOrDeveloping_df.get(ctrCd, \"NULL\")\n",
    "\n",
    "    attrs = \"Name, CountryCode, Population, PopulationGrowthPercent, RegionName, CapitalCity, IncomeGroup, GDP, UrbanPopulation, UrbanPopulationGrowth, GovernmentEffectiveness, ControlOfCorruption, DevelopedOrDeveloping\"\n",
    "    values = f\"\\\"{NM}\\\", \\\"{ctrCd}\\\", {P}, {PGP}, \\\"{RN}\\\", \\\"{CC}\\\", \\\"{IG}\\\", {GDP}, {UP}, {UPG}, {GE}, {COC}, \\\"{DOD}\\\"\"\n",
    "    Country_inserts.append(f\"INSERT INTO Country ({attrs}) VALUES ({values});\")\n",
    "\n",
    "Country_inserts = [ins.replace(\"\\\"NULL\\\"\", \"NULL\") for ins in Country_inserts]    "
   ]
  },
  {
   "cell_type": "code",
   "execution_count": 26,
   "metadata": {},
   "outputs": [],
   "source": [
    "# ClimateAgreement stuff\n",
    "\n",
    "ClimateAgreement_inserts = []\n",
    "\n",
    "CountryName_df = CA_Data_df.index\n",
    "AgreementName30_df = ['Paris']*len(CountryName_df)\n",
    "DateSigned30_df = CA_Data_df['2030_Target_Last_Updated']\n",
    "Target30_df = CA_Data_df['NDC_Target_Text']\n",
    "TargetDate30_df = ['2030']*len(CountryName_df)\n",
    "\n",
    "AgreementName50_df = ['Net Zero']*len(CountryName_df)\n",
    "DateSigned50_df = CA_Data_df['2050_Target_Last_Updated']\n",
    "Target50_df = CA_Data_df['Net_Zero_Target_Text']\n",
    "TargetDate50_df = ['2050']*len(CountryName_df)\n",
    "\n",
    "for ctrNm in CountryName_df:\n",
    "    AGR30 = 'Paris'\n",
    "    DS30 = DateSigned30_df.get(ctrNm, \"NULL\") \n",
    "    T30 = Target30_df.get(ctrNm, \"NULL\") \n",
    "    TD30 = '2030'\n",
    "\n",
    "    AGR50 = 'Net Zero'\n",
    "    DS50 = DateSigned50_df.get(ctrNm, \"NULL\") \n",
    "    T50 = Target50_df.get(ctrNm, \"NULL\") \n",
    "    TD50 = '2050'\n",
    "\n",
    "    attrs = \"CountryName, AgreementName, DateSigned, Target , TargetDate\"\n",
    "    val30 = f\"\\\"{ctrNm}\\\", \\\"{AGR30}\\\", {DS30}, \\\"{T30}\\\", {TD30}\"\n",
    "    val50 = f\"\\\"{ctrNm}\\\", \\\"{AGR50}\\\", {DS50}, \\\"{T50}\\\", {TD50}\"\n",
    "    ClimateAgreement_inserts.append(f\"INSERT INTO Country ({attrs}) VALUES ({val30});\")\n",
    "    ClimateAgreement_inserts.append(f\"INSERT INTO Country ({attrs}) VALUES ({val50});\")\n",
    "\n",
    "ClimateAgreement_inserts = [ins.replace(\"\\\"NULL\\\"\", \"NULL\") for ins in ClimateAgreement_inserts]    \n"
   ]
  },
  {
   "cell_type": "code",
   "execution_count": null,
   "metadata": {},
   "outputs": [],
   "source": [
    "df = pd.DataFrame(ClimateData_inserts)\n",
    "df.to_excel(\"/Users/cpt.flippers/Documents/CS 368/Project/SQL DDL/ClimateData_inserts.xlsx\")\n",
    "\n",
    "df = pd.DataFrame(Country_inserts)\n",
    "df.to_excel(\"/Users/cpt.flippers/Documents/CS 368/Project/SQL DDL/Country_inserts.xlsx\")\n",
    "\n",
    "df = pd.DataFrame(ClimateAgreement_inserts)\n",
    "df.to_excel(\"/Users/cpt.flippers/Documents/CS 368/Project/SQL DDL/ClimateAgreement_inserts.xlsx\")"
   ]
  }
 ],
 "metadata": {
  "kernelspec": {
   "display_name": "env3115",
   "language": "python",
   "name": "python3"
  },
  "language_info": {
   "codemirror_mode": {
    "name": "ipython",
    "version": 3
   },
   "file_extension": ".py",
   "mimetype": "text/x-python",
   "name": "python",
   "nbconvert_exporter": "python",
   "pygments_lexer": "ipython3",
   "version": "3.11.5"
  }
 },
 "nbformat": 4,
 "nbformat_minor": 2
}
